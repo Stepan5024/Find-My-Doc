{
 "cells": [
  {
   "cell_type": "code",
   "execution_count": 1,
   "metadata": {
    "id": "rNSRndKeyYcV"
   },
   "outputs": [],
   "source": [
    "import os"
   ]
  },
  {
   "cell_type": "code",
   "execution_count": 2,
   "metadata": {
    "colab": {
     "base_uri": "https://localhost:8080/"
    },
    "id": "8lUBcf-IY5aq",
    "outputId": "be6ad5c5-9890-4969-9777-25b0b5c1b139"
   },
   "outputs": [
    {
     "name": "stdout",
     "output_type": "stream",
     "text": [
      "Cloning into 'doctr'...\n",
      "remote: Enumerating objects: 12374, done.\u001b[K\n",
      "remote: Counting objects: 100% (3393/3393), done.\u001b[K\n",
      "remote: Compressing objects: 100% (960/960), done.\u001b[K\n",
      "remote: Total 12374 (delta 2849), reused 2565 (delta 2422), pack-reused 8981 (from 1)\u001b[K\n",
      "Receiving objects: 100% (12374/12374), 6.64 MiB | 11.84 MiB/s, done.\n",
      "Resolving deltas: 100% (8896/8896), done.\n"
     ]
    }
   ],
   "source": [
    "!git clone https://github.com/something-original/doctr"
   ]
  },
  {
   "cell_type": "code",
   "execution_count": 3,
   "metadata": {
    "id": "tUgxdKKoZEvR"
   },
   "outputs": [],
   "source": [
    "os.chdir('doctr')"
   ]
  },
  {
   "cell_type": "code",
   "execution_count": null,
   "metadata": {
    "colab": {
     "base_uri": "https://localhost:8080/"
    },
    "id": "bSSgfIG2kBg7",
    "outputId": "46d3bf1b-336c-4411-a97e-8334e863d27c"
   },
   "outputs": [],
   "source": [
    "!pip install -e . --upgrade\n",
    "!pip install -r references/requirements.txt"
   ]
  },
  {
   "cell_type": "code",
   "execution_count": null,
   "metadata": {
    "colab": {
     "base_uri": "https://localhost:8080/"
    },
    "id": "Id-aE2d3yTD5",
    "outputId": "565fe614-00cc-4ccd-ae98-be969ea3f421"
   },
   "outputs": [],
   "source": [
    "!python references/recognition/train_pytorch.py crnn_mobilenet_v3_small --train_path ../train --val_path ../val --vocab russian --epochs 10 --name doctr_v1 --freeze-backbone"
   ]
  },
  {
   "cell_type": "code",
   "execution_count": 5,
   "metadata": {
    "id": "ZYRmV3Xc_WC5"
   },
   "outputs": [],
   "source": []
  }
 ],
 "metadata": {
  "colab": {
   "gpuType": "T4",
   "provenance": []
  },
  "kernelspec": {
   "display_name": "Python 3",
   "name": "python3"
  },
  "language_info": {
   "name": "python"
  }
 },
 "nbformat": 4,
 "nbformat_minor": 0
}
